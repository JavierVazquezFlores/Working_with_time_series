{
 "cells": [
  {
   "cell_type": "markdown",
   "id": "43d6eabb",
   "metadata": {},
   "source": [
    "**This notebook is an exercise in the [Time Series](https://www.kaggle.com/learn/time-series) course.  You can reference the tutorial at [this link](https://www.kaggle.com/ryanholbrook/linear-regression-with-time-series).**\n",
    "\n",
    "---\n"
   ]
  },
  {
   "cell_type": "markdown",
   "id": "209ac86e",
   "metadata": {},
   "source": [
    "# Introduction #\n",
    "\n",
    "Run this cell to set everything up!"
   ]
  },
  {
   "cell_type": "code",
   "execution_count": null,
   "id": "65a212dd",
   "metadata": {},
   "outputs": [],
   "source": [
    "# Setup feedback system\n",
    "from learntools.core import binder\n",
    "binder.bind(globals())\n",
    "from learntools.time_series.ex1 import *\n",
    "\n",
    "# Setup notebook\n",
    "from pathlib import Path\n",
    "from learntools.time_series.style import *  # plot style settings\n",
    "\n",
    "import pandas as pd\n",
    "import matplotlib.pyplot as plt\n",
    "import numpy as np\n",
    "import seaborn as sns\n",
    "from sklearn.linear_model import LinearRegression\n",
    "\n",
    "\n",
    "data_dir = Path('../input/ts-course-data/')\n",
    "comp_dir = Path('../input/store-sales-time-series-forecasting')\n",
    "\n",
    "book_sales = pd.read_csv(\n",
    "    data_dir / 'book_sales.csv',\n",
    "    index_col='Date',\n",
    "    parse_dates=['Date'],\n",
    ").drop('Paperback', axis=1)\n",
    "book_sales['Time'] = np.arange(len(book_sales.index))\n",
    "book_sales['Lag_1'] = book_sales['Hardcover'].shift(1)\n",
    "book_sales = book_sales.reindex(columns=['Hardcover', 'Time', 'Lag_1'])\n",
    "\n",
    "ar = pd.read_csv(data_dir / 'ar.csv')\n",
    "\n",
    "dtype = {\n",
    "    'store_nbr': 'category',\n",
    "    'family': 'category',\n",
    "    'sales': 'float32',\n",
    "    'onpromotion': 'uint64',\n",
    "}\n",
    "store_sales = pd.read_csv(\n",
    "    comp_dir / 'train.csv',\n",
    "    dtype=dtype,\n",
    "    parse_dates=['date'],\n",
    "    infer_datetime_format=True,\n",
    ")\n",
    "store_sales = store_sales.set_index('date').to_period('D')\n",
    "store_sales = store_sales.set_index(['store_nbr', 'family'], append=True)\n",
    "average_sales = store_sales.groupby('date').mean()['sales']"
   ]
  },
  {
   "cell_type": "markdown",
   "id": "d2697a95",
   "metadata": {},
   "source": [
    "--------------------------------------------------------------------------------\n",
    "\n",
    "One advantage linear regression has over more complicated algorithms is that the models it creates are *explainable* -- it's easy to interpret what contribution each feature makes to the predictions. In the model `target = weight * feature + bias`, the `weight` tells you by how much the `target` changes on average for each unit of change in the `feature`.\n",
    "\n",
    "Run the next cell to see a linear regression on *Hardcover Sales*."
   ]
  },
  {
   "cell_type": "code",
   "execution_count": null,
   "id": "80ea37c0",
   "metadata": {},
   "outputs": [],
   "source": [
    "fig, ax = plt.subplots()\n",
    "ax.plot('Time', 'Hardcover', data=book_sales, color='0.75')\n",
    "ax = sns.regplot(x='Time', y='Hardcover', data=book_sales, ci=None, scatter_kws=dict(color='0.25'))\n",
    "ax.set_title('Time Plot of Hardcover Sales');"
   ]
  },
  {
   "cell_type": "markdown",
   "id": "38eef5a7",
   "metadata": {},
   "source": [
    "# 1) Interpret linear regression with the time dummy\n",
    "\n",
    "The linear regression line has an equation of (approximately) `Hardcover = 3.33 * Time + 150.5`. Over 6 days how much on average would you expect hardcover sales to change? After you've thought about it, run the next cell."
   ]
  },
  {
   "cell_type": "code",
   "execution_count": null,
   "id": "4ecc385d",
   "metadata": {},
   "outputs": [],
   "source": [
    "# View the solution (Run this line to receive credit!)\n",
    "q_1.check()"
   ]
  },
  {
   "cell_type": "code",
   "execution_count": null,
   "id": "f6b2d115",
   "metadata": {},
   "outputs": [],
   "source": [
    "# Uncomment the next line for a hint\n",
    "#q_1.hint()"
   ]
  },
  {
   "cell_type": "markdown",
   "id": "46fb52e2",
   "metadata": {},
   "source": [
    "-------------------------------------------------------------------------------\n",
    "\n",
    "Interpreting the regression coefficients can help us recognize serial dependence in a time plot. Consider the model `target = weight * lag_1 + error`, where `error` is random noise and `weight` is a number between -1 and 1. The `weight` in this case tells you how likely the next time step will have the same sign as the previous time step: a `weight` close to 1 means `target` will likely have the same sign as the previous step, while a `weight` close to -1 means `target` will likely have the opposite sign.\n",
    "\n",
    "# 2) Interpret linear regression with a lag feature\n",
    "\n",
    "Run the following cell to see two series generated according to the model just described."
   ]
  },
  {
   "cell_type": "code",
   "execution_count": null,
   "id": "b9a6a809",
   "metadata": {},
   "outputs": [],
   "source": [
    "fig, (ax1, ax2) = plt.subplots(2, 1, figsize=(11, 5.5), sharex=True)\n",
    "ax1.plot(ar['ar1'])\n",
    "ax1.set_title('Series 1')\n",
    "ax2.plot(ar['ar2'])\n",
    "ax2.set_title('Series 2');"
   ]
  },
  {
   "cell_type": "markdown",
   "id": "1ac69f9c",
   "metadata": {},
   "source": [
    "One of these series has the equation `target = 0.95 * lag_1 + error` and the other has the equation `target = -0.95 * lag_1 + error`, differing only by the sign on the lag feature. Can you tell which equation goes with each series?"
   ]
  },
  {
   "cell_type": "code",
   "execution_count": null,
   "id": "96643c2e",
   "metadata": {},
   "outputs": [],
   "source": [
    "# View the solution (Run this cell to receive credit!)\n",
    "q_2.check()"
   ]
  },
  {
   "cell_type": "code",
   "execution_count": null,
   "id": "ed20fa4a",
   "metadata": {},
   "outputs": [],
   "source": [
    "# Uncomment the next line for a hint\n",
    "#q_2.hint()"
   ]
  },
  {
   "cell_type": "markdown",
   "id": "88031b6f",
   "metadata": {},
   "source": [
    "-------------------------------------------------------------------------------\n",
    "\n",
    "Now we'll get started with the *Store Sales - Time Series Forecasting* competition data. The entire dataset comprises almost 1800 series recording store sales across a variety of product families from 2013 into 2017. For this lesson, we'll just work with a single series (`average_sales`) of the average sales each day.\n",
    "\n",
    "# 3) Fit a time-step feature\n",
    "\n",
    "Complete the code below to create a linear regression model with a time-step feature on the series of average product sales. The target is in a column called `'sales'`."
   ]
  },
  {
   "cell_type": "code",
   "execution_count": null,
   "id": "5d13aa33",
   "metadata": {},
   "outputs": [],
   "source": [
    "from sklearn.linear_model import LinearRegression\n",
    "\n",
    "df = average_sales.to_frame()\n",
    "\n",
    "# YOUR CODE HERE: Create a time dummy\n",
    "time = ____\n",
    "\n",
    "df['time'] = time \n",
    "\n",
    "# YOUR CODE HERE: Create training data\n",
    "X = ____  # features\n",
    "y = ____  # target\n",
    "\n",
    "# Train the model\n",
    "model = LinearRegression()\n",
    "model.fit(X, y)\n",
    "\n",
    "# Store the fitted values as a time series with the same time index as\n",
    "# the training data\n",
    "y_pred = pd.Series(model.predict(X), index=X.index)\n",
    "\n",
    "\n",
    "# Check your answer\n",
    "q_3.check()"
   ]
  },
  {
   "cell_type": "code",
   "execution_count": null,
   "id": "407881db",
   "metadata": {},
   "outputs": [],
   "source": [
    "# Lines below will give you a hint or solution code\n",
    "#q_3.hint()\n",
    "#q_3.solution()"
   ]
  },
  {
   "cell_type": "markdown",
   "id": "59e9d70b",
   "metadata": {},
   "source": [
    "Run this cell if you'd like to see a plot of the result."
   ]
  },
  {
   "cell_type": "code",
   "execution_count": null,
   "id": "cb31e784",
   "metadata": {},
   "outputs": [],
   "source": [
    "ax = y.plot(**plot_params, alpha=0.5)\n",
    "ax = y_pred.plot(ax=ax, linewidth=3)\n",
    "ax.set_title('Time Plot of Total Store Sales');"
   ]
  },
  {
   "cell_type": "markdown",
   "id": "42e217c2",
   "metadata": {},
   "source": [
    "-------------------------------------------------------------------------------\n",
    "\n",
    "# 4) Fit a lag feature to Store Sales\n",
    "\n",
    "Complete the code below to create a linear regression model with a lag feature on the series of average product sales. The target is in a column of `df` called `'sales'`."
   ]
  },
  {
   "cell_type": "code",
   "execution_count": null,
   "id": "130936d6",
   "metadata": {},
   "outputs": [],
   "source": [
    "df = average_sales.to_frame()\n",
    "\n",
    "# YOUR CODE HERE: Create a lag feature from the target 'sales'\n",
    "lag_1 = ____\n",
    "\n",
    "df['lag_1'] = lag_1  # add to dataframe\n",
    "\n",
    "X = df.loc[:, ['lag_1']].dropna()  # features\n",
    "y = df.loc[:, 'sales']  # target\n",
    "y, X = y.align(X, join='inner')  # drop corresponding values in target\n",
    "\n",
    "# YOUR CODE HERE: Create a LinearRegression instance and fit it to X and y.\n",
    "model = ____\n",
    "\n",
    "# YOUR CODE HERE: Create Store the fitted values as a time series with\n",
    "# the same time index as the training data\n",
    "y_pred = ____\n",
    "\n",
    "\n",
    "# Check your answer\n",
    "q_4.check()"
   ]
  },
  {
   "cell_type": "code",
   "execution_count": null,
   "id": "5430262a",
   "metadata": {},
   "outputs": [],
   "source": [
    "# Lines below will give you a hint or solution code\n",
    "q_4.hint()\n",
    "q_4.solution()"
   ]
  },
  {
   "cell_type": "markdown",
   "id": "2ce553db",
   "metadata": {},
   "source": [
    "Run the next cell if you'd like to see the result."
   ]
  },
  {
   "cell_type": "code",
   "execution_count": null,
   "id": "791c684c",
   "metadata": {},
   "outputs": [],
   "source": [
    "fig, ax = plt.subplots()\n",
    "ax.plot(X['lag_1'], y, '.', color='0.25')\n",
    "ax.plot(X['lag_1'], y_pred)\n",
    "ax.set(aspect='equal', ylabel='sales', xlabel='lag_1', title='Lag Plot of Average Sales');"
   ]
  },
  {
   "cell_type": "markdown",
   "id": "f6a50c02",
   "metadata": {},
   "source": [
    "# Keep Going #\n",
    "\n",
    "[**Model trend**](https://www.kaggle.com/ryanholbrook/trend) in time series with moving average plots and the time dummy."
   ]
  },
  {
   "cell_type": "markdown",
   "id": "ab3f527f",
   "metadata": {},
   "source": [
    "---\n",
    "\n",
    "\n",
    "\n",
    "\n",
    "*Have questions or comments? Visit the [course discussion forum](https://www.kaggle.com/learn/time-series/discussion) to chat with other learners.*"
   ]
  }
 ],
 "metadata": {
  "jupytext": {
   "formats": "md,ipynb"
  },
  "kernelspec": {
   "display_name": "Python 3 (ipykernel)",
   "language": "python",
   "name": "python3"
  },
  "language_info": {
   "codemirror_mode": {
    "name": "ipython",
    "version": 3
   },
   "file_extension": ".py",
   "mimetype": "text/x-python",
   "name": "python",
   "nbconvert_exporter": "python",
   "pygments_lexer": "ipython3",
   "version": "3.9.13"
  }
 },
 "nbformat": 4,
 "nbformat_minor": 5
}
